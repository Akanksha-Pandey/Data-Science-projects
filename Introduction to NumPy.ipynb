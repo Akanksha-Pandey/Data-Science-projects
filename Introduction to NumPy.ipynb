{
 "cells": [
  {
   "cell_type": "markdown",
   "metadata": {},
   "source": [
    "# Introduction to NumPy\n",
    "\n",
    "In this notebook we will learn the following:\n",
    "\n",
    "* How to work with data in using NumPy and pandas objects?\n",
    "* How to explore and clean data in pandas?\n",
    "* How to use pandas and NumPy to analyze data quickly and efficiently?"
   ]
  },
  {
   "cell_type": "markdown",
   "metadata": {},
   "source": [
    "As we learn NumPy, we'll be analyzing taxi trip data released by the city of New York. The city releases data on taxis and for-hire vehicles on the Taxi and Limousine Commission (TLC) Website. There is data on over 1.3 trillion individual trips, reaching back as far as 2009 and is regularly updated.\n"
   ]
  },
  {
   "cell_type": "code",
   "execution_count": 1,
   "metadata": {},
   "outputs": [],
   "source": [
    "import csv\n",
    "import numpy as np\n",
    "\n",
    "# import nyc_taxi.csv as a list of lists\n",
    "f = open(\"nyc_taxis.csv\", \"r\")\n",
    "taxi_list = list(csv.reader(f))\n",
    "\n",
    "# remove the header row\n",
    "taxi_list = taxi_list[1:]\n",
    "\n",
    "# convert all values to floats\n",
    "converted_taxi_list = []\n",
    "for row in taxi_list:\n",
    "    converted_row = []\n",
    "    for item in row:\n",
    "        converted_row.append(float(item))\n",
    "    converted_taxi_list.append(converted_row)\n",
    "\n",
    "# start writing your code below this comment\n",
    "taxi = np.array(converted_taxi_list)"
   ]
  },
  {
   "cell_type": "code",
   "execution_count": 5,
   "metadata": {},
   "outputs": [
    {
     "data": {
      "text/plain": [
       "(89560, 15)"
      ]
     },
     "execution_count": 5,
     "metadata": {},
     "output_type": "execute_result"
    }
   ],
   "source": [
    "taxi.shape # provides information about num_rows and num_columns"
   ]
  },
  {
   "cell_type": "markdown",
   "metadata": {},
   "source": [
    "The output of the ndarray.shape attribute gives us a few important pieces of information:\n",
    "\n",
    "There are two numbers, which tells us that our ndarray is two-dimensional.\n",
    "Note: the data type returned is called a tuple. Tuples are very similar to Python lists, but are immutable (can't be modified). Tuples are defined and displayed using parentheses () rather than brackets []\n",
    "\n",
    "* The first number tells us that the first dimension is 89,560 items long, or put another way that there are 89,560 rows in our data set.\n",
    "* The second number tells us that the second dimension is 15 items long, or put another way that there are 15 columns in our data set."
   ]
  },
  {
   "cell_type": "markdown",
   "metadata": {},
   "source": [
    "ndarray[row,column]\n",
    "\n",
    "#or if you want to select all\n",
    "#columns for a given set of rows\n",
    "ndarray[row]\n",
    "\n",
    "Where row defines the location along the row axis and column defines the location along the column axis. Both row and column can be one of the following:\n",
    "\n",
    "* An integer, indicating a specific location, eg ndarray[3,0].\n",
    "* A slice, indicating a range of locations, eg ndarray[0:5,6:].\n",
    "* A colon, indicating every location, eg ndarray[:,2].\n",
    "* A list of values, indicating specific locations, eg ndarray[[0,1,3,4],0].\n",
    "* A boolean array, indicating specific locations - we'll look at this method in detail in the second mission of this  course.\n",
    "* Or any combination of the above."
   ]
  },
  {
   "cell_type": "markdown",
   "metadata": {},
   "source": [
    "From the taxi ndarray:\n",
    "* Select the row at index 0 and assign it to row_0.\n",
    "* Select every column for the rows at indexes 391 to 500 inclusive and assign them to rows_391_to_500.\n",
    "* Select the item at row index 21 and column index 5 and assign it to row_21_column_5"
   ]
  },
  {
   "cell_type": "code",
   "execution_count": 6,
   "metadata": {},
   "outputs": [],
   "source": [
    "row_0 = taxi[0]\n",
    "rows_391_to_500 = taxi[391:501,:]\n",
    "row_21_column_5 = taxi[21,5]"
   ]
  },
  {
   "cell_type": "code",
   "execution_count": 7,
   "metadata": {},
   "outputs": [],
   "source": [
    "cols = [1,4,7]\n",
    "columns_1_4_7 = taxi[:,cols]\n",
    "row_99_columns_5_to_8 = taxi[99,5:9]\n",
    "rows_100_to_200_column_14 = taxi[100:201,14]"
   ]
  },
  {
   "cell_type": "code",
   "execution_count": 8,
   "metadata": {},
   "outputs": [],
   "source": [
    "trip_distance_miles = taxi[:,7]\n",
    "trip_length_seconds = taxi[:,8]\n",
    "\n",
    "trip_length_hours = trip_length_seconds / 3600 # 3600 seconds is one hour\n",
    "trip_mph = trip_distance_miles/trip_length_hours"
   ]
  },
  {
   "cell_type": "markdown",
   "metadata": {},
   "source": [
    "To make the calculations in the previous screen, we used operators like the / symbol to perform vectorized operations over our data. NumPy provides a second way to make these calculations - arithmetic functions. Let's look at how we would write the exercise from the previous screen with with the equivalent, the numpy.divide function:"
   ]
  },
  {
   "cell_type": "code",
   "execution_count": 9,
   "metadata": {},
   "outputs": [],
   "source": [
    "# using the `/` operator:\n",
    "trip_mph_1 = trip_distance_miles / trip_length_hours\n",
    "\n",
    "# using the `numpy.divide()` function:\n",
    "trip_mph_2 = np.divide(trip_distance_miles,trip_length_hours)"
   ]
  },
  {
   "cell_type": "code",
   "execution_count": 10,
   "metadata": {},
   "outputs": [
    {
     "name": "stdout",
     "output_type": "stream",
     "text": [
      "[37.11340206 38.58157895 31.27222982 ... 22.29907867 42.41551247\n",
      " 36.90473407]\n",
      "[37.11340206 38.58157895 31.27222982 ... 22.29907867 42.41551247\n",
      " 36.90473407]\n"
     ]
    }
   ],
   "source": [
    "print(trip_mph_1)\n",
    "print(trip_mph_2)"
   ]
  },
  {
   "cell_type": "code",
   "execution_count": null,
   "metadata": {},
   "outputs": [],
   "source": []
  }
 ],
 "metadata": {
  "kernelspec": {
   "display_name": "Python 3",
   "language": "python",
   "name": "python3"
  },
  "language_info": {
   "codemirror_mode": {
    "name": "ipython",
    "version": 3
   },
   "file_extension": ".py",
   "mimetype": "text/x-python",
   "name": "python",
   "nbconvert_exporter": "python",
   "pygments_lexer": "ipython3",
   "version": "3.6.5"
  }
 },
 "nbformat": 4,
 "nbformat_minor": 2
}
